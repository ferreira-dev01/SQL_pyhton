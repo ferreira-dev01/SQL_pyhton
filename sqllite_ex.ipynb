{
 "cells": [
  {
   "cell_type": "code",
   "execution_count": 3,
   "metadata": {},
   "outputs": [
    {
     "name": "stdout",
     "output_type": "stream",
     "text": [
      "  Nome vitima reincidente\n",
      "0              Allen Sosa\n",
      "1            Amy Mitchell\n"
     ]
    }
   ],
   "source": [
    "from sqlite3 import connect\n",
    "import pandas as pd\n",
    "\n",
    "# Cria um banco de dados em memória\n",
    "engine = connect(':memory:')\n",
    "\n",
    "# Cria um DataFrame da planilha de vitimas\n",
    "df1 = pd.read_excel('vitimasA20003.xlsx')\n",
    "df2 = pd.read_excel('vitimasU33004.xlsx')\n",
    "\n",
    "# Salva os DataFrames como tabelas no banco de dados na memoria\n",
    "df1.to_sql('tabela1', con=engine, index=False)\n",
    "df2.to_sql('tabela2', con=engine, index=False)\n",
    "\n",
    "# Realiza a consulta\n",
    "query = pd.read_sql_query('''\n",
    "SELECT nome1 as 'Nome vitima reincidente'\n",
    "FROM\n",
    "tabela1 AS t1\n",
    "INNER JOIN\n",
    "tabela2 AS t2\n",
    "ON t1.nome1 = t2.nome2\n",
    "WHERE t1.data_fato1 < t2.data_fato2\n",
    "''', engine)\n",
    "\n",
    "print(query)"
   ]
  }
 ],
 "metadata": {
  "kernelspec": {
   "display_name": "base",
   "language": "python",
   "name": "python3"
  },
  "language_info": {
   "codemirror_mode": {
    "name": "ipython",
    "version": 3
   },
   "file_extension": ".py",
   "mimetype": "text/x-python",
   "name": "python",
   "nbconvert_exporter": "python",
   "pygments_lexer": "ipython3",
   "version": "3.12.4"
  }
 },
 "nbformat": 4,
 "nbformat_minor": 2
}
